{
 "cells": [
  {
   "cell_type": "code",
   "execution_count": 1,
   "metadata": {},
   "outputs": [],
   "source": [
    "import reverse_geocoder as rg, pandas as pd\n",
    "import geocoder\n",
    "stations=pd.read_csv('ghcnm_out\\stations\\stations_qcf.csv')\n",
    "canada=pd.DataFrame({'Code':[], 'Latitude':[], 'Longitude':[], 'Elevation':[], 'Name':[]})"
   ]
  },
  {
   "cell_type": "code",
   "execution_count": 6,
   "metadata": {
    "scrolled": true
   },
   "outputs": [
    {
     "name": "stdout",
     "output_type": "stream",
     "text": [
      "1839\n",
      "            Code  Latitude  Longitude  Elevation                  Name\n",
      "595  IC000004004   64.9000   -23.9330        7.0            GUFUSKALAR\n",
      "596  IC000004013   65.0733   -22.7275       15.0         STYKKISHOLMUR\n",
      "597  IC000004030   64.1331   -21.9000       52.0             REYKJAVIK\n",
      "598  IC000004048   63.4000   -20.2831      118.0        VESTMANNAEYJAR\n",
      "599  IC000004063   65.6800   -18.0794       27.0              AKUREYRI\n",
      "600  IC000004092   64.6831   -15.2275       23.0            TEIGARHORN\n",
      "601  IC000004097   65.2667   -13.5831        9.0             DALATANGI\n",
      "602  ICM00004005   66.1667   -23.5667       20.0            GALTARVITI\n",
      "603  ICM00004014   63.8170   -22.7170       26.0         REYKJANESVITI\n",
      "604  ICM00004056   64.8667   -19.5667      641.0           HVERAVELLIR\n",
      "605  ICM00004064   63.7833   -18.0667       32.0  KIRKJUBAEJARKLAUSTUR\n",
      "606  ICM00004065   66.5330   -18.0170       16.0               GRIMSEY\n",
      "607  ICM00004077   66.4500   -15.9500        5.0            RAUFARHOFN\n",
      "608  ICM00004082   64.2960   -15.2270        7.3          HORNAFJORDUR\n",
      "609  ICM00004089   65.2830   -14.4000       23.0           EGILSSTADIR\n",
      "610  ICM00004130   64.1330   -21.9000       53.0             REYKJAVIK\n",
      "611  ICW00016201   63.9667   -22.6000       50.3              KEFLAVIK\n",
      "612  ICXLT168358   66.1500   -23.2500       24.0            BOLUNGAVIK\n"
     ]
    }
   ],
   "source": [
    "print(len(stations))\n",
    "for i in range(11839, len(stations)):\n",
    "    print(i)\n",
    "    g = geocoder.osm([stations.iloc[i,1], stations.iloc[i,2]], method='reverse')\n",
    "    print(g.json)\n",
    "    if (g.json['country_code']=='is' and g.json['country']=='Ísland'):\n",
    "        iceland=iceland.append(stations.iloc[i])\n",
    "print(iceland)"
   ]
  },
  {
   "cell_type": "code",
   "execution_count": 7,
   "metadata": {},
   "outputs": [],
   "source": [
    "iceland.to_csv('Iceland.csv')"
   ]
  },
  {
   "cell_type": "code",
   "execution_count": null,
   "metadata": {},
   "outputs": [],
   "source": []
  }
 ],
 "metadata": {
  "kernelspec": {
   "display_name": "Python 3",
   "language": "python",
   "name": "python3"
  },
  "language_info": {
   "codemirror_mode": {
    "name": "ipython",
    "version": 3
   },
   "file_extension": ".py",
   "mimetype": "text/x-python",
   "name": "python",
   "nbconvert_exporter": "python",
   "pygments_lexer": "ipython3",
   "version": "3.6.8"
  }
 },
 "nbformat": 4,
 "nbformat_minor": 5
}
