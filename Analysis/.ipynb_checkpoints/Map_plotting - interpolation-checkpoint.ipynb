{
 "cells": [
  {
   "cell_type": "code",
   "execution_count": 1,
   "id": "286a047d",
   "metadata": {},
   "outputs": [],
   "source": [
    "import numpy as np\n",
    "import pandas as pd\n",
    "import glob\n",
    "from pykrige.ok import OrdinaryKriging\n",
    "from pykrige.kriging_tools import write_asc_grid\n",
    "import pykrige.kriging_tools as kt\n",
    "import matplotlib.pyplot as plt\n",
    "from mpl_toolkits.basemap import Basemap\n",
    "from matplotlib.colors import LinearSegmentedColormap\n",
    "from matplotlib.patches import Path, PathPatch\n",
    "%matplotlib inline\n",
    "from mpl_toolkits.basemap import Basemap"
   ]
  },
  {
   "cell_type": "code",
   "execution_count": 2,
   "id": "d61d01f9",
   "metadata": {},
   "outputs": [],
   "source": [
    "from itertools import chain\n",
    "\n",
    "def draw_map(m, scale=0.7):\n",
    "    # draw a shaded-relief image\n",
    "#     m.bluemarble(scale=scale)\n",
    "    m.shadedrelief()\n",
    "    \n",
    "    \n",
    "    # lats and longs are returned as a dictionary\n",
    "    lats = m.drawparallels(np.linspace(-90, 90, 13))\n",
    "    lons = m.drawmeridians(np.linspace(-180, 180, 13))\n",
    "\n",
    "    # keys contain the plt.Line2D instances\n",
    "    lat_lines = chain(*(tup[1][0] for tup in lats.items()))\n",
    "    lon_lines = chain(*(tup[1][0] for tup in lons.items()))\n",
    "    all_lines = chain(lat_lines, lon_lines)\n",
    "    \n",
    "    # cycle through these lines and set the desired style\n",
    "    for line in all_lines:\n",
    "        line.set(linestyle='-', alpha=0.3, color='w')"
   ]
  },
  {
   "cell_type": "code",
   "execution_count": 3,
   "id": "800d8ac4",
   "metadata": {},
   "outputs": [
    {
     "name": "stdout",
     "output_type": "stream",
     "text": [
      "      Unnamed: 0         Code  Latitude  Longitude  Elevation  \\\n",
      "0              0  CA002100100   61.6500  -137.4833      966.0   \n",
      "1              1  CA002100115   60.4667  -134.8333      820.0   \n",
      "2              2  CA002100120   62.3667  -133.3833     1158.0   \n",
      "3              3  CA002100160   62.4167  -140.8667      649.0   \n",
      "4              4  CA002100163   60.0000  -136.7667      836.0   \n",
      "...          ...          ...       ...        ...        ...   \n",
      "1830        1830  USW00027502   71.2833  -156.7814        9.4   \n",
      "1831        1831  USW00027503   70.6392  -159.9950        9.1   \n",
      "1832        1832  USW00027515   70.2117  -151.0017       17.4   \n",
      "1833        1833  USW00027516   71.3214  -156.6111        4.6   \n",
      "1834        1834  XXXLT199633   62.0000   -33.0000     9999.0   \n",
      "\n",
      "                       Name  Correlation1  Correlation2  Correlation3  \\\n",
      "0                AISHIHIK_A     -0.056648     -0.383037      0.032376   \n",
      "1       ANNIE_LAKE_ROBINSON      0.249292     -0.496984     -0.278545   \n",
      "2                     ANVIL      0.338639      0.074105     -0.090566   \n",
      "3            BEAVER_CREEK_A      0.273019      0.233649      0.350427   \n",
      "4           BLANCHARD_RIVER     -0.094227     -0.163330      0.308881   \n",
      "...                     ...           ...           ...           ...   \n",
      "1830  BARROW_POST_ROGERS_AP      0.182950      0.308746      0.381974   \n",
      "1831          WAINWRIGHT_AP      0.232193      0.456091      0.220963   \n",
      "1832             NUIQSUT_AP      0.514053      0.337924      0.085626   \n",
      "1833           BARROW_4_ENE      0.340813      0.607125      0.161891   \n",
      "1834         SHIP_STATION_A      0.370697      0.116679      0.162044   \n",
      "\n",
      "      Correlation4  Correlation5  Correlation6  Correlation7  Correlation8  \\\n",
      "0         0.207669      0.309219     -0.065069      0.022964      0.399107   \n",
      "1         0.578212      0.586775      0.696676      0.363350      0.012776   \n",
      "2         0.584940      0.468685     -0.245366      0.478452      0.216069   \n",
      "3         0.561929      0.352900      0.375010      0.475247      0.207707   \n",
      "4         0.478814      0.525742      0.642138      0.506334      0.293036   \n",
      "...            ...           ...           ...           ...           ...   \n",
      "1830      0.309552      0.452755      0.367530      0.499125      0.552188   \n",
      "1831      0.366595      0.464537      0.633689      0.663586      0.503549   \n",
      "1832      0.339293      0.222564     -0.010651      0.068353      0.151039   \n",
      "1833     -0.034022      0.397936     -0.022709      0.356336      0.453977   \n",
      "1834      0.077922      0.372901      0.391591      0.730930      0.633221   \n",
      "\n",
      "      Correlation9  Correlation10  Correlation11  Correlation12  \n",
      "0        -0.019388       0.284274       0.256034      -0.368921  \n",
      "1         0.206237       0.377926       0.395534      -0.210182  \n",
      "2        -0.064507       0.608466      -0.175037      -0.005009  \n",
      "3         0.285903       0.272877       0.234914       0.271481  \n",
      "4         0.275948      -0.025993       0.303271      -0.001683  \n",
      "...            ...            ...            ...            ...  \n",
      "1830      0.676441       0.551760       0.417716       0.200038  \n",
      "1831      0.474519       0.519103       0.418408      -0.024263  \n",
      "1832      0.343315       0.342766      -0.014196       0.442771  \n",
      "1833      0.311950       0.474577       0.544693       0.300175  \n",
      "1834      0.546501       0.641661       0.277359       0.163547  \n",
      "\n",
      "[1835 rows x 18 columns]\n"
     ]
    }
   ],
   "source": [
    "import pandas as pd\n",
    "import geopandas as gpd\n",
    "geo_df=pd.read_csv('ghcnm_out/Correlated Data/Monthly_Correlated_Data.csv')\n",
    "newseries=(geo_df.iloc[:,6]+geo_df.iloc[:,7]+geo_df.iloc[:,8]+geo_df.iloc[:,9]+geo_df.iloc[:,10]+geo_df.iloc[:,11]+geo_df.iloc[:,12]+geo_df.iloc[:,13]+geo_df.iloc[:,14]+geo_df.iloc[:,15]+geo_df.iloc[:,16]+geo_df.iloc[:,17])/12.0\n",
    "print(geo_df)"
   ]
  },
  {
   "cell_type": "code",
   "execution_count": null,
   "id": "12e7477f",
   "metadata": {},
   "outputs": [],
   "source": [
    "fig = plt.figure(figsize=(20, 20))\n",
    "m = Basemap(projection='npstere',boundinglat=55,lon_0=0,resolution='l')\n",
    "m.drawparallels(np.arange(-80.,81.,10.),  linewidth=0.4)\n",
    "m.drawmeridians(np.arange(-180.,181.,10.),  linewidth=0.4)\n",
    "new_df=(geo_df[(geo_df.iloc[:,17]>0.5) | (geo_df.iloc[:,17]<-0.5)])\n",
    "x, y = m(new_df.iloc[:230,3], new_df.iloc[:230,2])\n",
    "col = new_df.iloc[:230,17]\n",
    "plt.scatter(x, y, c=col, cmap='RdBu', marker='o')\n",
    "plt.colorbar(shrink=0.65)\n",
    "plt.title('Dec - Jan CORR')\n",
    "draw_map(m)"
   ]
  },
  {
   "cell_type": "code",
   "execution_count": null,
   "id": "b34e42d7",
   "metadata": {},
   "outputs": [],
   "source": [
    "new_df=(geo_df[(geo_df.iloc[:,17]>0.5) | (geo_df.iloc[:,17]<-0.5)])\n",
    "fig = plt.figure(figsize=(20, 20))\n",
    "m = Basemap(projection='npstere',boundinglat=55,lon_0=0,resolution='l')\n",
    "m.drawparallels(np.arange(-80.,81.,10.),  linewidth=0.4)\n",
    "m.drawmeridians(np.arange(-180.,181.,10.),  linewidth=0.4)\n",
    "new_df=(geo_df[(geo_df.iloc[:,16]>0.5) | (geo_df.iloc[:,16]<-0.5)])\n",
    "x, y = m(new_df.iloc[:,3], new_df.iloc[:,2])\n",
    "plt.scatter(x, y, c=new_df.iloc[:,16], cmap='RdBu', marker='o')\n",
    "plt.colorbar(shrink=0.65)\n",
    "plt.title('Nov - Dec CORR')\n",
    "draw_map(m)"
   ]
  },
  {
   "cell_type": "code",
   "execution_count": null,
   "id": "9f58266a",
   "metadata": {},
   "outputs": [],
   "source": [
    "fig = plt.figure(figsize=(20, 20))\n",
    "m = Basemap(projection='npstere',boundinglat=55,lon_0=0,resolution='l')\n",
    "m.drawparallels(np.arange(-80.,81.,10.),  linewidth=0.4)\n",
    "m.drawmeridians(np.arange(-180.,181.,10.),  linewidth=0.4)\n",
    "new_df=(geo_df[(geo_df.iloc[:,15]>0.5) | (geo_df.iloc[:,15]<-0.5)])\n",
    "x, y = m(new_df.iloc[:,3], new_df.iloc[:,2])\n",
    "plt.scatter(x, y, c=new_df.iloc[:,15], cmap='RdBu', marker='o')\n",
    "plt.colorbar(shrink=0.65)\n",
    "plt.title('Oct - Nov CORR')\n",
    "draw_map(m)"
   ]
  },
  {
   "cell_type": "code",
   "execution_count": null,
   "id": "71173da5",
   "metadata": {},
   "outputs": [],
   "source": [
    "fig = plt.figure(figsize=(20, 20))\n",
    "m = Basemap(projection='npstere',boundinglat=55,lon_0=0,resolution='l')\n",
    "m.drawparallels(np.arange(-80.,81.,10.),  linewidth=0.4)\n",
    "m.drawmeridians(np.arange(-180.,181.,10.),  linewidth=0.4)\n",
    "new_df=(geo_df[(geo_df.iloc[:,14]>0.5) | (geo_df.iloc[:,14]<-0.5)])\n",
    "x, y = m(new_df.iloc[:,3], new_df.iloc[:,2])\n",
    "plt.scatter(x, y, c=new_df.iloc[:,14], cmap='RdBu', marker='o')\n",
    "plt.colorbar(shrink=0.65)\n",
    "plt.title('Sept - Oct CORR')\n",
    "draw_map(m)"
   ]
  },
  {
   "cell_type": "code",
   "execution_count": null,
   "id": "b2357e01",
   "metadata": {},
   "outputs": [],
   "source": [
    "fig = plt.figure(figsize=(20, 20))\n",
    "m = Basemap(projection='npstere',boundinglat=55,lon_0=0,resolution='l')\n",
    "m.drawparallels(np.arange(-80.,81.,10.),  linewidth=0.4)\n",
    "m.drawmeridians(np.arange(-180.,181.,10.),  linewidth=0.4)\n",
    "new_df=(geo_df[(geo_df.iloc[:,13]>0.5) | (geo_df.iloc[:,13]<-0.5)])\n",
    "x, y = m(new_df.iloc[:,3], new_df.iloc[:,2])\n",
    "plt.scatter(x, y, c=new_df.iloc[:,13], cmap='RdBu', marker='o')\n",
    "plt.colorbar(shrink=0.65)\n",
    "plt.title('Aug - Sept CORR')\n",
    "draw_map(m)"
   ]
  },
  {
   "cell_type": "code",
   "execution_count": null,
   "id": "a7b07a7a",
   "metadata": {},
   "outputs": [],
   "source": [
    "fig = plt.figure(figsize=(20, 20))\n",
    "m = Basemap(projection='npstere',boundinglat=55,lon_0=0,resolution='l')\n",
    "m.drawparallels(np.arange(-80.,81.,10.),  linewidth=0.4)\n",
    "m.drawmeridians(np.arange(-180.,181.,10.),  linewidth=0.4)\n",
    "new_df=(geo_df[(geo_df.iloc[:,12]>0.5) | (geo_df.iloc[:,12]<-0.5)])\n",
    "x, y = m(new_df.iloc[:,3], new_df.iloc[:,2])\n",
    "plt.scatter(x, y, c=new_df.iloc[:,12], cmap='RdBu', marker='o')\n",
    "plt.colorbar(shrink=0.65)\n",
    "plt.title('July - Aug CORR')\n",
    "draw_map(m)"
   ]
  },
  {
   "cell_type": "code",
   "execution_count": null,
   "id": "c9bc40f0",
   "metadata": {},
   "outputs": [],
   "source": [
    "fig = plt.figure(figsize=(20, 20))\n",
    "m = Basemap(projection='npstere',boundinglat=55,lon_0=0,resolution='l')\n",
    "m.drawparallels(np.arange(-80.,81.,10.),  linewidth=0.4)\n",
    "m.drawmeridians(np.arange(-180.,181.,10.),  linewidth=0.4)\n",
    "new_df=(geo_df[(geo_df.iloc[:,11]>0.5) | (geo_df.iloc[:,11]<-0.5)])\n",
    "x, y = m(new_df.iloc[:,3], new_df.iloc[:,2])\n",
    "plt.scatter(x, y, c=new_df.iloc[:,11], cmap='RdBu', marker='o')\n",
    "plt.colorbar(shrink=0.65)\n",
    "plt.title('June - July CORR')\n",
    "draw_map(m)"
   ]
  },
  {
   "cell_type": "code",
   "execution_count": null,
   "id": "eded5cde",
   "metadata": {},
   "outputs": [],
   "source": [
    "fig = plt.figure(figsize=(20, 20))\n",
    "m = Basemap(projection='npstere',boundinglat=55,lon_0=0,resolution='l')\n",
    "m.drawparallels(np.arange(-80.,81.,10.),  linewidth=0.4)\n",
    "m.drawmeridians(np.arange(-180.,181.,10.),  linewidth=0.4)\n",
    "new_df=(geo_df[(geo_df.iloc[:,10]>0.5) | (geo_df.iloc[:,10]<-0.5)])\n",
    "x, y = m(new_df.iloc[:,3], new_df.iloc[:,2])\n",
    "plt.scatter(x, y, c=new_df.iloc[:,10], cmap='RdBu', marker='o')\n",
    "plt.colorbar(shrink=0.65)\n",
    "plt.title('May - June CORR')\n",
    "draw_map(m)"
   ]
  },
  {
   "cell_type": "code",
   "execution_count": null,
   "id": "989debed",
   "metadata": {},
   "outputs": [],
   "source": [
    "fig = plt.figure(figsize=(20, 20))\n",
    "m = Basemap(projection='npstere',boundinglat=55,lon_0=0,resolution='l')\n",
    "m.drawparallels(np.arange(-80.,81.,10.),  linewidth=0.4)\n",
    "m.drawmeridians(np.arange(-180.,181.,10.),  linewidth=0.4)\n",
    "new_df=(geo_df[(geo_df.iloc[:,9]>0.5) | (geo_df.iloc[:,9]<-0.5)])\n",
    "x, y = m(new_df.iloc[:,3], new_df.iloc[:,2])\n",
    "plt.scatter(x, y, c=new_df.iloc[:,9], cmap='RdBu', marker='o')\n",
    "plt.colorbar(shrink=0.65)\n",
    "plt.title('April - May CORR')\n",
    "draw_map(m)"
   ]
  },
  {
   "cell_type": "code",
   "execution_count": null,
   "id": "30df8c36",
   "metadata": {},
   "outputs": [],
   "source": [
    "fig = plt.figure(figsize=(20, 20))\n",
    "m = Basemap(projection='npstere',boundinglat=55,lon_0=0,resolution='l')\n",
    "m.drawparallels(np.arange(-80.,81.,10.),  linewidth=0.4)\n",
    "m.drawmeridians(np.arange(-180.,181.,10.),  linewidth=0.4)\n",
    "new_df=(geo_df[(geo_df.iloc[:,8]>0.5) | (geo_df.iloc[:,8]<-0.5)])\n",
    "x, y = m(new_df.iloc[:,3], new_df.iloc[:,2])\n",
    "plt.scatter(x, y, c=new_df.iloc[:,8], cmap='RdBu', marker='o')\n",
    "plt.colorbar(shrink=0.65)\n",
    "plt.title('March - Apr CORR')\n",
    "draw_map(m)"
   ]
  },
  {
   "cell_type": "code",
   "execution_count": null,
   "id": "0ec87b73",
   "metadata": {},
   "outputs": [],
   "source": [
    "fig = plt.figure(figsize=(20, 20))\n",
    "m = Basemap(projection='npstere',boundinglat=55,lon_0=0,resolution='l')\n",
    "m.drawparallels(np.arange(-80.,81.,10.),  linewidth=0.4)\n",
    "m.drawmeridians(np.arange(-180.,181.,10.),  linewidth=0.4)\n",
    "new_df=(geo_df[(geo_df.iloc[:,7]>0.5) | (geo_df.iloc[:,7]<-0.5)])\n",
    "x, y = m(new_df.iloc[:,3], new_df.iloc[:,2])\n",
    "plt.scatter(x, y, c=new_df.iloc[:,7], cmap='RdBu', marker='o')\n",
    "plt.colorbar(shrink=0.65)\n",
    "plt.title('Feb - March CORR')\n",
    "draw_map(m)"
   ]
  },
  {
   "cell_type": "code",
   "execution_count": null,
   "id": "644d3a9d",
   "metadata": {},
   "outputs": [],
   "source": [
    "fig = plt.figure(figsize=(20, 20))\n",
    "m = Basemap(projection='npstere',boundinglat=55,lon_0=0,resolution='l')\n",
    "m.drawparallels(np.arange(-80.,81.,10.),  linewidth=0.4)\n",
    "m.drawmeridians(np.arange(-180.,181.,10.),  linewidth=0.4)\n",
    "new_df=(geo_df[(geo_df.iloc[:,6]>0.5) | (geo_df.iloc[:,6]<-0.5)])\n",
    "x, y = m(new_df.iloc[:,3], new_df.iloc[:,2])\n",
    "plt.scatter(x, y, c=new_df.iloc[:,6], cmap='RdBu', marker='o')\n",
    "plt.colorbar(shrink=0.65)\n",
    "plt.title('Jan - Feb CORR')\n",
    "draw_map(m)"
   ]
  },
  {
   "cell_type": "code",
   "execution_count": null,
   "id": "58428f2c",
   "metadata": {},
   "outputs": [],
   "source": [
    "fig = plt.figure(figsize=(20, 20))\n",
    "m = Basemap(projection='npstere',boundinglat=55,lon_0=0,resolution='l')\n",
    "m.drawparallels(np.arange(-80.,81.,10.),  linewidth=0.4)\n",
    "m.drawmeridians(np.arange(-180.,181.,10.),  linewidth=0.4)\n",
    "newseries=(geo_df.iloc[:,6]+geo_df.iloc[:,7]+geo_df.iloc[:,8]+geo_df.iloc[:,9]+geo_df.iloc[:,10]+geo_df.iloc[:,11]+geo_df.iloc[:,12]+geo_df.iloc[:,13]+geo_df.iloc[:,14]+geo_df.iloc[:,15]+geo_df.iloc[:,16]+geo_df.iloc[:,17])/12.0\n",
    "x, y = m(geo_df.iloc[:,3], geo_df.iloc[:,2])\n",
    "col = geo_df.iloc[:,17]\n",
    "plt.scatter(x, y, c=newseries, cmap='RdBu', marker='o')\n",
    "plt.colorbar(shrink=0.65)\n",
    "plt.title('Annual Mean CORR')\n",
    "draw_map(m)"
   ]
  },
  {
   "cell_type": "code",
   "execution_count": null,
   "id": "74d606bd",
   "metadata": {},
   "outputs": [],
   "source": []
  }
 ],
 "metadata": {
  "kernelspec": {
   "display_name": "Python 3",
   "language": "python",
   "name": "python3"
  },
  "language_info": {
   "codemirror_mode": {
    "name": "ipython",
    "version": 3
   },
   "file_extension": ".py",
   "mimetype": "text/x-python",
   "name": "python",
   "nbconvert_exporter": "python",
   "pygments_lexer": "ipython3",
   "version": "3.6.8"
  }
 },
 "nbformat": 4,
 "nbformat_minor": 5
}
