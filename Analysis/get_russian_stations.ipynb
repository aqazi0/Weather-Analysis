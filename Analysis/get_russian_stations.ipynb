{
 "cells": [
  {
   "cell_type": "code",
   "execution_count": 31,
   "id": "dbbdc680",
   "metadata": {},
   "outputs": [],
   "source": [
    "import reverse_geocoder as rg, pandas as pd\n",
    "import geocoder\n",
    "stations=pd.read_csv('ghcnm_out\\stations\\stations.csv')\n",
    "canada=pd.DataFrame({'Code':[], 'Latitude':[], 'Longitude':[], 'Elevation':[], 'Name':[]})"
   ]
  },
  {
   "cell_type": "code",
   "execution_count": 41,
   "id": "af779e13",
   "metadata": {
    "scrolled": true
   },
   "outputs": [
    {
     "name": "stdout",
     "output_type": "stream",
     "text": [
      "             Code  Latitude  Longitude  Elevation                Name\n",
      "914   RS000020034   80.8170    47.4170       18.0          NAGURSKOYE\n",
      "915   RS000020294   77.6170   101.4830        6.0     GEYBERGA_ISLAND\n",
      "916   RS000020357   76.1830    63.5670        9.0      RUSSKAYA_GAVAN\n",
      "917   RS000020696   73.6500   109.7500       20.0        CAPE_KASISTY\n",
      "918   RS000020766   72.3330    79.5000       10.0             LESKINO\n",
      "...           ...       ...        ...        ...                 ...\n",
      "1216  RSXLT886728   73.5167    75.7667       41.0  OSTROV_VILKITSKOVO\n",
      "1217  RSXLT887675   60.1670   130.1990      171.0     TEGJULTJE_TERDE\n",
      "1218  RSXLT896839   71.1333    66.8167       11.0          KHARASOVOY\n",
      "1219  RSXLT973997   69.7000   170.3300        4.0               PEVEK\n",
      "1221  SV000020026   80.1670    36.7500        9.0    VIKTORIYA_ISLAND\n",
      "\n",
      "[306 rows x 5 columns]\n"
     ]
    }
   ],
   "source": [
    "for i in range(1835, len(stations)):\n",
    "    print(i)\n",
    "    g = geocoder.osm([stations.iloc[i,1], stations.iloc[i,2]], method='reverse')\n",
    "    if (g.json['country_code']=='ru'):\n",
    "        canada=canada.append(stations.iloc[i])\n",
    "print(canada)"
   ]
  },
  {
   "cell_type": "code",
   "execution_count": 44,
   "id": "71612a1c",
   "metadata": {},
   "outputs": [],
   "source": [
    "canada = canada.reset_index(drop=True)\n",
    "canada.to_csv('Russia.csv')"
   ]
  },
  {
   "cell_type": "code",
   "execution_count": null,
   "id": "e1e5d9d6",
   "metadata": {},
   "outputs": [],
   "source": []
  }
 ],
 "metadata": {
  "kernelspec": {
   "display_name": "Python 3",
   "language": "python",
   "name": "python3"
  },
  "language_info": {
   "codemirror_mode": {
    "name": "ipython",
    "version": 3
   },
   "file_extension": ".py",
   "mimetype": "text/x-python",
   "name": "python",
   "nbconvert_exporter": "python",
   "pygments_lexer": "ipython3",
   "version": "3.6.8"
  }
 },
 "nbformat": 4,
 "nbformat_minor": 5
}
