{
 "cells": [
  {
   "cell_type": "code",
   "execution_count": 24,
   "id": "dbbdc680",
   "metadata": {},
   "outputs": [],
   "source": [
    "import reverse_geocoder as rg, pandas as pd\n",
    "import geocoder\n",
    "stations=pd.read_csv('ghcnm_out\\stations\\stations.csv')\n",
    "canada=pd.DataFrame({'Code':[], 'Latitude':[], 'Longitude':[], 'Elevation':[], 'Name':[]})"
   ]
  },
  {
   "cell_type": "code",
   "execution_count": 50,
   "id": "af779e13",
   "metadata": {
    "scrolled": true
   },
   "outputs": [
    {
     "name": "stdout",
     "output_type": "stream",
     "text": [
      "1835\n",
      "            Code  Latitude  Longitude  Elevation                 Name\n",
      "0    CA002100100   61.6500  -137.4833      966.0           AISHIHIK_A\n",
      "1    CA002100115   60.4667  -134.8333      820.0  ANNIE_LAKE_ROBINSON\n",
      "2    CA002100120   62.3667  -133.3833     1158.0                ANVIL\n",
      "3    CA002100160   62.4167  -140.8667      649.0       BEAVER_CREEK_A\n",
      "4    CA002100163   60.0000  -136.7667      836.0      BLANCHARD_RIVER\n",
      "..           ...       ...        ...        ...                  ...\n",
      "229  CAXLT660207   63.8000   -68.6000        0.0        FROBISHER_BAY\n",
      "230  CAXLT991150   68.9300  -116.9200       18.0       CAPE_YOUNG_ANW\n",
      "0    CA002100100   61.6500  -137.4833      966.0           AISHIHIK_A\n",
      "1    CA002100115   60.4667  -134.8333      820.0  ANNIE_LAKE_ROBINSON\n",
      "2    CA002100120   62.3667  -133.3833     1158.0                ANVIL\n",
      "\n",
      "[242 rows x 5 columns]\n"
     ]
    }
   ],
   "source": [
    "print(len(stations))\n",
    "for i in range(1835,len(stations)):\n",
    "    print(i)\n",
    "    g = geocoder.osm([stations.iloc[i,1], stations.iloc[i,2]], method='reverse')\n",
    "    print(g.json)\n",
    "    if (g.json['country_code']=='ca' and g.json['country']=='Canada'):\n",
    "        canada=canada.append(stations.iloc[i])\n",
    "print(canada)"
   ]
  },
  {
   "cell_type": "code",
   "execution_count": 51,
   "id": "71612a1c",
   "metadata": {},
   "outputs": [],
   "source": [
    "canada.to_csv('canada.csv')"
   ]
  },
  {
   "cell_type": "code",
   "execution_count": null,
   "id": "e1e5d9d6",
   "metadata": {},
   "outputs": [],
   "source": []
  }
 ],
 "metadata": {
  "kernelspec": {
   "display_name": "Python 3",
   "language": "python",
   "name": "python3"
  },
  "language_info": {
   "codemirror_mode": {
    "name": "ipython",
    "version": 3
   },
   "file_extension": ".py",
   "mimetype": "text/x-python",
   "name": "python",
   "nbconvert_exporter": "python",
   "pygments_lexer": "ipython3",
   "version": "3.6.8"
  }
 },
 "nbformat": 4,
 "nbformat_minor": 5
}
